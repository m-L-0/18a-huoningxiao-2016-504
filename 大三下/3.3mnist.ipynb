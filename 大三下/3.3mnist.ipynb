{
 "cells": [
  {
   "cell_type": "code",
   "execution_count": 10,
   "metadata": {},
   "outputs": [],
   "source": [
    "%matplotlib inline\n",
    "\n",
    "import numpy as np\n",
    "from PIL import Image\n",
    "from matplotlib import pyplot as plt\n",
    "\n",
    "import tensorflow as tf\n",
    "from tensorflow.examples.tutorials.mnist import input_data\n"
   ]
  },
  {
   "cell_type": "code",
   "execution_count": 11,
   "metadata": {},
   "outputs": [
    {
     "name": "stdout",
     "output_type": "stream",
     "text": [
      "Extracting /home/hnx/下载/MNIST_data/MNIST_data/train-images-idx3-ubyte.gz\n",
      "Extracting /home/hnx/下载/MNIST_data/MNIST_data/train-labels-idx1-ubyte.gz\n",
      "Extracting /home/hnx/下载/MNIST_data/MNIST_data/t10k-images-idx3-ubyte.gz\n",
      "Extracting /home/hnx/下载/MNIST_data/MNIST_data/t10k-labels-idx1-ubyte.gz\n"
     ]
    }
   ],
   "source": [
    "# 下载MNIST数据集并生成DataSet对象\n",
    "# 使用OneHot编码处理标记\n",
    "mnist = input_data.read_data_sets(\"/home/hnx/下载/MNIST_data/MNIST_data\", one_hot=True)\n"
   ]
  },
  {
   "cell_type": "code",
   "execution_count": 12,
   "metadata": {},
   "outputs": [
    {
     "data": {
      "text/plain": [
       "(55000, 784)"
      ]
     },
     "execution_count": 12,
     "metadata": {},
     "output_type": "execute_result"
    }
   ],
   "source": [
    "# 训练集图片矩阵，代表55000张图片，每张图片为一个向量，其长度为784\n",
    "mnist.train.images.shape"
   ]
  },
  {
   "cell_type": "code",
   "execution_count": 13,
   "metadata": {},
   "outputs": [
    {
     "data": {
      "text/plain": [
       "(55000, 10)"
      ]
     },
     "execution_count": 13,
     "metadata": {},
     "output_type": "execute_result"
    }
   ],
   "source": [
    "# 训练集标记矩阵，代表55000张图片的标记，每张图片为一个10维的独热编码向量\n",
    "mnist.train.labels.shape"
   ]
  },
  {
   "cell_type": "code",
   "execution_count": 14,
   "metadata": {},
   "outputs": [
    {
     "data": {
      "text/plain": [
       "(10000, 784)"
      ]
     },
     "execution_count": 14,
     "metadata": {},
     "output_type": "execute_result"
    }
   ],
   "source": [
    "mnist.test.images.shape"
   ]
  },
  {
   "cell_type": "code",
   "execution_count": 15,
   "metadata": {},
   "outputs": [
    {
     "data": {
      "text/plain": [
       "(10000, 10)"
      ]
     },
     "execution_count": 15,
     "metadata": {},
     "output_type": "execute_result"
    }
   ],
   "source": [
    "mnist.test.labels.shape"
   ]
  },
  {
   "cell_type": "code",
   "execution_count": 17,
   "metadata": {},
   "outputs": [
    {
     "data": {
      "image/png": "[encoded data removed]",
      "text/plain": [
       "<PIL.Image.Image image mode=L size=28x28 at 0x7F2E4E69CB70>"
      ]
     },
     "execution_count": 17,
     "metadata": {},
     "output_type": "execute_result"
    }
   ],
   "source": [
    "# 可视化训练集中的图片\n",
    "#plt.imshow(Image.fromarray(mnist.train.images[0].reshape(28, 28)))\n",
    "Image.fromarray((mnist.train.images[2] * 255).astype(np.uint8).reshape([28,28]))"
   ]
  },
  {
   "cell_type": "code",
   "execution_count": 18,
   "metadata": {},
   "outputs": [
    {
     "data": {
      "text/plain": [
       "array([0., 0., 0., 0., 0., 0., 0., 1., 0., 0.])"
      ]
     },
     "execution_count": 18,
     "metadata": {},
     "output_type": "execute_result"
    }
   ],
   "source": [
    "mnist.train.labels[0]"
   ]
  },
  {
   "cell_type": "code",
   "execution_count": 20,
   "metadata": {},
   "outputs": [
    {
     "name": "stdout",
     "output_type": "stream",
     "text": [
      "step     0, loss 16.1181, acc 0.0788\n",
      "step   500, loss 12.3826, acc 0.2522\n",
      "step  1000, loss 8.8093, acc 0.3201\n",
      "step  1500, loss 10.0763, acc 0.3840\n",
      "step  2000, loss 11.1261, acc 0.4375\n",
      "step  2500, loss 5.5620, acc 0.4719\n",
      "step  3000, loss 7.8092, acc 0.4994\n",
      "step  3500, loss 6.5524, acc 0.5165\n",
      "step  4000, loss 7.0247, acc 0.5272\n",
      "step  4500, loss 7.2581, acc 0.5634\n",
      "step  5000, loss 6.6718, acc 0.5938\n",
      "step  5500, loss 8.0590, acc 0.6040\n",
      "step  6000, loss 7.0168, acc 0.6185\n",
      "step  6500, loss 5.5406, acc 0.6221\n",
      "step  7000, loss 3.5634, acc 0.6274\n",
      "step  7500, loss 4.0313, acc 0.6324\n",
      "step  8000, loss 5.5406, acc 0.6311\n",
      "step  8500, loss 6.8437, acc 0.6464\n",
      "step  9000, loss 6.9548, acc 0.6635\n",
      "step  9500, loss 4.0951, acc 0.6757\n",
      "step 10000, loss 4.7316, acc 0.6876\n",
      "step 10500, loss 3.3340, acc 0.6895\n",
      "step 11000, loss 4.5332, acc 0.6969\n",
      "step 11500, loss 4.4825, acc 0.6977\n",
      "step 12000, loss 5.5726, acc 0.7057\n",
      "step 12500, loss 6.0116, acc 0.7031\n",
      "step 13000, loss 4.5326, acc 0.7097\n",
      "step 13500, loss 3.4899, acc 0.7069\n",
      "step 14000, loss 6.6514, acc 0.7087\n",
      "step 14500, loss 3.2838, acc 0.7150\n",
      "step 15000, loss 4.9732, acc 0.7165\n",
      "step 15500, loss 4.2811, acc 0.7121\n",
      "step 16000, loss 3.4252, acc 0.7196\n",
      "step 16500, loss 3.6854, acc 0.7159\n",
      "step 17000, loss 4.5430, acc 0.7173\n",
      "step 17500, loss 4.4314, acc 0.7212\n",
      "step 18000, loss 4.3281, acc 0.7195\n",
      "step 18500, loss 5.4786, acc 0.7183\n",
      "step 19000, loss 5.8239, acc 0.7247\n",
      "step 19500, loss 3.0834, acc 0.7463\n"
     ]
    }
   ],
   "source": [
    "with tf.Graph().as_default() as g:\n",
    "    # 输入、标记占位符\n",
    "    inputs = tf.placeholder(shape=[None, 784], dtype=tf.float32)\n",
    "    labels = tf.placeholder(shape=[None, 10], dtype=tf.float32)\n",
    "    \n",
    "    \n",
    "    # 创建128个隐藏层神经元参数\n",
    "    hidden_weight = tf.Variable(tf.random_normal([784, 128]), name='hidden_weight')\n",
    "    hidden_bias = tf.Variable(tf.zeros([128, ]), name='hidden_bias')\n",
    "    # 隐藏层前向传播\n",
    "    hidden_output = tf.nn.relu(tf.matmul(inputs, hidden_weight) + hidden_bias)\n",
    "    \n",
    "    \n",
    "    # 创建输出层10个神经元参数\n",
    "    output_weight = tf.Variable(tf.random_normal([128, 10], name='output_weight'))\n",
    "    output_bias = tf.Variable(tf.zeros([10, ]), name='output_bias')\n",
    "    # 输出层前向传播\n",
    "    logits = tf.matmul(hidden_output, output_weight) + output_bias\n",
    "    output = tf.nn.softmax(logits)\n",
    "    \n",
    "    \n",
    "    # 代价函数\n",
    "    loss = tf.reduce_mean(-1 * tf.reduce_sum(\n",
    "        labels * tf.log(output + 1e-7),\n",
    "        axis=1))\n",
    "    \n",
    "    \n",
    "    # 正确率\n",
    "    acc = tf.reduce_mean(\n",
    "        tf.cast(tf.equal(tf.argmax(labels, axis=1), tf.argmax(output, axis=1)),\n",
    "                tf.float32))\n",
    "\n",
    "\n",
    "with tf.Session(graph=g) as sess:\n",
    "    # 定义梯度下降法优化器\n",
    "    optim = tf.train.GradientDescentOptimizer(learning_rate=0.01)\n",
    "    train_op = optim.minimize(loss)\n",
    "    sess.run(tf.global_variables_initializer())\n",
    "    \n",
    "    # 训练模型\n",
    "    for step in range(20000):\n",
    "        batch_images, batch_labels = mnist.train.next_batch(32)\n",
    "        res_loss, _ = sess.run([loss, train_op], feed_dict={\n",
    "            inputs: batch_images,\n",
    "            labels: batch_labels\n",
    "        })\n",
    "        \n",
    "        # 输出代价并验证模型\n",
    "        if step % 500 == 0:\n",
    "            accs = []\n",
    "            for test_step in range(10000 // 32):\n",
    "                batch_images, batch_labels = mnist.test.next_batch(32)\n",
    "                res_acc = sess.run(acc, feed_dict={\n",
    "                    inputs: batch_images,\n",
    "                    labels: batch_labels\n",
    "                })\n",
    "                accs.append(res_acc)\n",
    "            accs = np.mean(accs)\n",
    "            print('step %5d, loss %2.4f, acc %.4f' % (step, res_loss, accs))"
   ]
  },
  {
   "cell_type": "code",
   "execution_count": null,
   "metadata": {},
   "outputs": [],
   "source": []
  }
 ],
 "metadata": {
  "kernelspec": {
   "display_name": "Python 3",
   "language": "python",
   "name": "python3"
  },
  "language_info": {
   "codemirror_mode": {
    "name": "ipython",
    "version": 3
   },
   "file_extension": ".py",
   "mimetype": "text/x-python",
   "name": "python",
   "nbconvert_exporter": "python",
   "pygments_lexer": "ipython3",
   "version": "3.5.2"
  }
 },
 "nbformat": 4,
 "nbformat_minor": 2
}
