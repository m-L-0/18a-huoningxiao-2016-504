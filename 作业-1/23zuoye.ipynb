{
 "cells": [
  {
   "cell_type": "code",
   "execution_count": 1,
   "metadata": {},
   "outputs": [
    {
     "name": "stdout",
     "output_type": "stream",
     "text": [
      "8\n",
      "8\n"
     ]
    }
   ],
   "source": [
    "import tensorflow as tf\n",
    "x=3\n",
    "y=5\n",
    "add_op=tf.add(x,y)\n",
    "with tf.Session() as sess:\n",
    "    print(sess.run(add_op))\n",
    "with tf.Session() as sess2:\n",
    "    print(sess2.run(add_op))"
   ]
  },
  {
   "cell_type": "code",
   "execution_count": 4,
   "metadata": {},
   "outputs": [
    {
     "name": "stdout",
     "output_type": "stream",
     "text": [
      "15625\n",
      "[15625, 10]\n"
     ]
    }
   ],
   "source": [
    "import tensorflow as tf\n",
    "x=2\n",
    "y=3\n",
    "add_op=tf.add(x,y)\n",
    "mul_op=tf.multiply(x,y)\n",
    "useless=tf.multiply(x,add_op)\n",
    "pow_op=tf.pow(add_op,mul_op)#没有依赖关系，useless并没有执行\n",
    "with tf.Session() as sess:\n",
    "    print(sess.run(pow_op))\n",
    "    print(sess.run([pow_op,useless]))"
   ]
  },
  {
   "cell_type": "code",
   "execution_count": 3,
   "metadata": {},
   "outputs": [
    {
     "name": "stdout",
     "output_type": "stream",
     "text": [
      "[15625, 10]\n"
     ]
    }
   ],
   "source": [
    "import tensorflow as tf\n",
    "x=2\n",
    "y=3\n",
    "add_op=tf.add(x,y)\n",
    "mul_op=tf.multiply(x,y)\n",
    "useless=tf.multiply(x,add_op)\n",
    "pow_op=tf.pow(add_op,mul_op)\n",
    "with tf.Session() as sess:\n",
    "    print(sess.run([pow_op,useless]))"
   ]
  },
  {
   "cell_type": "code",
   "execution_count": null,
   "metadata": {},
   "outputs": [],
   "source": [
    "#img为4阶张量\n",
    "t1=img[1,:,:,:]#索引\n",
    "t2=tf.slice(img,[1,0,0,0],[1,28,28,3])#切片\n",
    "t3=img[0:8:2,:,:,:]#取第1,3，5,7张图片\n",
    "t4=img[6:8,7:14,7:14,:]#取6——8张中心部分\n",
    "t5,t6,t7=tf.split(img,[1,1,1],3)\n",
    "with tf.Session() as sess:\n",
    "    print(sess.run(t1))\n",
    "    print(sess.run(t2))\n",
    "    print(sess.run(t3))\n",
    "    print(sess.run(t4))\n",
    "    print(sess.run(t5))\n",
    "    print(sess.run(t6))\n",
    "    print(sess.run(t7))\n",
    "    print(sess.run(tf.rank(img)))\n",
    "    print(img.shape)\n",
    "\n",
    "\n"
   ]
  }
 ],
 "metadata": {
  "kernelspec": {
   "display_name": "Python 3",
   "language": "python",
   "name": "python3"
  },
  "language_info": {
   "codemirror_mode": {
    "name": "ipython",
    "version": 3
   },
   "file_extension": ".py",
   "mimetype": "text/x-python",
   "name": "python",
   "nbconvert_exporter": "python",
   "pygments_lexer": "ipython3",
   "version": "3.5.2"
  }
 },
 "nbformat": 4,
 "nbformat_minor": 2
}
